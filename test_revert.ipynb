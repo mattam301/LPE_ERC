{
 "cells": [
  {
   "cell_type": "code",
   "execution_count": 2,
   "metadata": {},
   "outputs": [
    {
     "name": "stdout",
     "output_type": "stream",
     "text": [
      "<class 'list'>\n",
      "[0, 1, 2, 1, 3, 1, 3, 1]\n"
     ]
    }
   ],
   "source": [
    "def revert_one_hot(one_hot_list):\n",
    "    normal_numbers = []\n",
    "    for one_hot in one_hot_list:\n",
    "        # Find the index of the 1, which represents the original number\n",
    "        normal_numbers.append(one_hot.index(1))\n",
    "    return normal_numbers\n",
    "\n",
    "# Example usage:\n",
    "one_hot_encoded = [\n",
    "    [1, 0, 0, 0, 0, 0, 0, 0, 0],\n",
    "    [0, 1, 0, 0, 0, 0, 0, 0, 0],\n",
    "    [0, 0, 1, 0, 0, 0, 0, 0, 0],\n",
    "    [0, 1, 0, 0, 0, 0, 0, 0, 0],\n",
    "    [0, 0, 0, 1, 0, 0, 0, 0, 0],\n",
    "    [0, 1, 0, 0, 0, 0, 0, 0, 0],\n",
    "    [0, 0, 0, 1, 0, 0, 0, 0, 0],\n",
    "    [0, 1, 0, 0, 0, 0, 0, 0, 0]\n",
    "]\n",
    "\n",
    "print(type(one_hot_encoded))\n",
    "reverted_numbers = revert_one_hot(one_hot_encoded)\n",
    "print(reverted_numbers)  # Output: [0, 1, 2, 1, 3, 1, 3, 1]\n"
   ]
  },
  {
   "cell_type": "code",
   "execution_count": null,
   "metadata": {},
   "outputs": [],
   "source": []
  }
 ],
 "metadata": {
  "kernelspec": {
   "display_name": "corect",
   "language": "python",
   "name": "python3"
  },
  "language_info": {
   "codemirror_mode": {
    "name": "ipython",
    "version": 3
   },
   "file_extension": ".py",
   "mimetype": "text/x-python",
   "name": "python",
   "nbconvert_exporter": "python",
   "pygments_lexer": "ipython3",
   "version": "3.10.14"
  }
 },
 "nbformat": 4,
 "nbformat_minor": 2
}
